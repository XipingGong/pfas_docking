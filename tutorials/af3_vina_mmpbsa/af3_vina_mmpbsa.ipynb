{
 "cells": [
  {
   "cell_type": "markdown",
   "id": "a5d7ef57-118a-4362-9b01-7e0f1d75417a",
   "metadata": {},
   "source": [
    "# AF3-Vina-MMPBSA method for PFAS docking in proteins \n",
    "\n",
    "Xiping Gong (xipinggong@uga.edu) from the [Jack Huang's Lab](https://site.caes.uga.edu/huanglab/)\n",
    "\n",
    "Date: 4/23/2025"
   ]
  },
  {
   "cell_type": "markdown",
   "id": "dd8279fa-5299-405f-8a21-785c3ff8747f",
   "metadata": {},
   "source": [
    "# Introduction\n",
    "\n",
    "Understanding how per- and polyfluoroalkyl substances (PFAS) interact with proteins at the molecular level is crucial for evaluating their biological impact. A reliable docking strategy is essential to accurately predict the protein-PFAS binding pose and to estimate the associated binding free energy. Such predictive models play an important role in identifying potential binding sites, understanding the binding mechanism, and guiding the design of safer chemical alternatives.\n",
    "\n",
    "Recently, we proposed a hybrid docking strategy that combines AlphaFold 3 (AF3) with conventional AutoDock Vina to study PFAS-protein interactions. This AF3-Vina method leverages the strengths of both AI-based predictions and physics-based docking. By inputting only the protein sequence and ligand name, the method can predict likely binding pockets without requiring prior structural knowledge. This significantly reduces the search space for docking. For example, selecting the top five poses predicted by either AF3 or Vina results in a narrowed set of ten candidate poses, among which the correct binding pose can be likely identified with a success rate of over 80%.\n",
    "\n",
    "To further refine the prediction and identify the most accurate binding pose, we apply the Molecular Mechanics/Poisson–Boltzmann Surface Area (MM/PBSA) method to calculate the binding free energies of the shortlisted poses. This step allows us to rank the predicted poses based on their binding free energies. In this tutorial, we present a step-by-step guide on how to apply the AF3-Vina-MM/PBSA method to dock PFAS into protein systems, enabling more accurate and efficient analysis of protein-PFAS interactions.\n"
   ]
  },
  {
   "cell_type": "markdown",
   "id": "23d26d38-ba9e-4595-9bca-b995a7b9e22e",
   "metadata": {},
   "source": [
    "# Methodology\n",
    "\n",
    "**Figure 1** illustrates how a combination of AF3 and AutoDock Vina predicts top binding poses of PFAS to proteins without prior knowledge of the binding pocket. The left panel shows five poses from AF3, and the right panel shows five from Vina. The top-ranked pose (red) is used to selected the candiate poses by calculating the RMSD values less than 0.2 nm. MM/PBSA is then applied to these top candidate poses to determine the most thermodynamically favorable binding conformation based on the calculated binding free energies.\n",
    "\n",
    "<img src=\"images/af3_vina_mmpbsa.svg\" alt=\"Alt Text\" style=\"width:60%;\">\n",
    "\n",
    "\n",
    "**Figure 1**. Workflow of the AF3-Vina-MM/PBSA method for PFAS docking in proteins. This methods involves three steps: 1) using the AF3 method to obtain the candiate poses, 2) using the AF3Pocket-Vina method to obtain the candiate poses, and 3) using the MM/PBSA method to identify the best pose.\n"
   ]
  },
  {
   "cell_type": "markdown",
   "id": "16f31e67-470a-4f78-a98c-65954b6d61b8",
   "metadata": {},
   "source": [
    "# Tutorial\n",
    "\n",
    "In this section, I will show a step-by-step guide on how to use the AF3-Vina-MM/PBSA method. \n",
    "Here, we assume that we have installed all required packages, like Git, AF3, Vina, gmxMMPBSA, Python, and etc.\n"
   ]
  },
  {
   "cell_type": "markdown",
   "id": "158b9dcb-487e-4791-b171-8a4eed288678",
   "metadata": {},
   "source": [
    "## Download the repository\n",
    "\n",
    "I have created a GitHub repository, and we should have it downloaded first, which includes some required scripts. \n",
    "\n",
    "```bash\n",
    "$ git clone https://github.com/XipingGong/pfas_docking.git\n",
    "$ cd pfas_docking # go to this directory, and we will have a test later.\n",
    "```\n"
   ]
  },
  {
   "cell_type": "markdown",
   "id": "8a279198-00e5-4bea-8098-647d993c80ba",
   "metadata": {},
   "source": [
    "## Preparation of a protein-PFAS system\n",
    "\n",
    "Here, we select a simple system (PDBID: 7FEU) as an example, which involves a simple protein system (a human heart fatty acid-binding protein), a perfluorononanoic acid (formula: C9HF17O2, short name: PFNA), and a hexaethylene glycol (formula: C12H26O7).\n",
    "\n",
    "An illustrated description can be found in the following image (*Source: [RCSB PDB](https://www.rcsb.org/structure/7FEU)*):\n",
    "\n",
    "<img src=\"https://cdn.rcsb.org/images/structures/7feu_assembly-1.jpeg\" alt=\"Illustration of 7FEU\" style=\"width:40%;\">\n",
    "\n",
    "To dock the PFNA into this human heart fatty acid-binding protein, we first need to download and clean up this PDBID, so that we have a system that only has one protein and one PFNA.\n",
    "\n",
    "```bash\n",
    "# Open a terminal and create a working directory and download the PDB file\n",
    "$ mkdir -p test/dock_dir/7FEU_4I6 # create this folder: dock_dir/7FEU_4I6\n",
    "$ cd test/dock_dir/7FEU_4I6 # go to the created folder\n",
    "#\n",
    "# Please modify this \"../../../scripts/get_native_pdb.sh\" file.\n",
    "#\n",
    "$ bash ../../../scripts/get_native_pdb.sh --pdbid 7FEU --ligandid 4I6 # It will create two pdb files\n",
    "$ ls -ltr \n",
    "#>> 7FEU_4I6_ori.pdb\n",
    "#>> 7FEU_4I6.pdb # this includes two chains: chain A for protein and chain B for ligand\n",
    "$ mv 7FEU_4I6.pdb native_model.pdb # rename it as the native_model.pdb\n",
    "```\n",
    "\n",
    "After that, we will create the essential reference files for running the AF3-Vina-MMPBSA, including the native structure-derived pdb files, topology file, etc.\n",
    "\n",
    "```bash\n",
    "# Please modify this \"../../../scripts/get_ref_for_af3vinammpbsa.sh\" file.\n",
    "#\n",
    "$ mkdir -p native # create a native folder for saving the reference input\n",
    "$ bash ../../../scripts/get_ref_for_af3vinammpbsa.sh --input_pdb native_model.pdb --work_dir native\n",
    "\n",
    "```"
   ]
  },
  {
   "cell_type": "markdown",
   "id": "e852ad6b-e5b2-4553-ba6e-a6c99736d232",
   "metadata": {},
   "source": [
    "## Running a job: AlphaFold 3\n",
    "\n",
    "AF3 only requires a json file which includes the basic info of the protein-ligand complex, like protein sequence and ligand ID, so it can be straightforward to run the AlphaFold 3.\n",
    "\n",
    "```bash\n",
    "# Obtain the af3.sh script to run the AlphaFold 3\n",
    "# Please modify this \"../../../scripts/af3.sh\" file.\n",
    "# \n",
    "# - Create an \"af3.json\" file from a pdb file (it can be any pdb file has a protein-ligand system)\n",
    "$ python ../../../scripts/get_json_for_af3.py native_model.pdb -o af3.json\n",
    "#\n",
    "# Submit an AF3 job\n",
    "# - Case 1: we have the native one\n",
    "$ sbatch ../../../scripts/af3.sh --input_json af3.json --native_dir native # submit a AF3 job. It needs the GPU installation\n",
    "# - Case 2: we do not have the native one\n",
    "$ sbatch ../../../scripts/af3.sh --input_json af3.json # we should provide a JSON file at least\n",
    "#\n",
    "# Check the result: we will see an \"af3\" folder, which includes all data generated\n",
    "$ ls -ltr af3\n",
    "# >> af3_data.json\n",
    "# >> af3_model.cif\n",
    "# >> af3_summary_confidences.json\n",
    "# >> af3_confidences.json\n",
    "# >> ranking_scores.csv\n",
    "# >> TERMS_OF_USE.md\n",
    "# >> best_pose\n",
    "# >> seed-1_sample-0\n",
    "# >> seed-1_sample-1\n",
    "# >> seed-1_sample-2\n",
    "# >> seed-1_sample-3\n",
    "# >> seed-1_sample-4\n",
    "# >> \n",
    "#\n",
    "# Check out the predicted structrues\n",
    "# It has five predicted structures. We can check their RMSD values, compared to the native one.\n",
    "$ python ../../../scripts/check_rmsd.py --ref native/native_modelH.pdb \"af3/[bs]*/aligned_model_convert.pdb\"\n",
    "# >. 📂 Loading reference PDB: native/native_modelH.pdb\n",
    "# >.   - /home/xg69107/program/pfas_docking/test/dock_dir/7FEU_4I6/native/native_modelH.pdb\n",
    "# >. 📂 Loading target PDB: af3/[bs]*/aligned_model.pdb\n",
    "# >.   - /home/xg69107/program/pfas_docking/test/dock_dir/7FEU_4I6/af3/best_pose/aligned_model.pdb\n",
    "# >.   - /home/xg69107/program/pfas_docking/test/dock_dir/7FEU_4I6/af3/seed-1_sample-0/aligned_model.pdb\n",
    "# >.   - /home/xg69107/program/pfas_docking/test/dock_dir/7FEU_4I6/af3/seed-1_sample-1/aligned_model.pdb\n",
    "# >.   - /home/xg69107/program/pfas_docking/test/dock_dir/7FEU_4I6/af3/seed-1_sample-2/aligned_model.pdb\n",
    "# >.   - /home/xg69107/program/pfas_docking/test/dock_dir/7FEU_4I6/af3/seed-1_sample-3/aligned_model.pdb\n",
    "# >.   - /home/xg69107/program/pfas_docking/test/dock_dir/7FEU_4I6/af3/seed-1_sample-4/aligned_model.pdb\n",
    "# >. 📊 Protein Backbone RMSD (Direct): Min = 0.023 nm ; [0.03027058 0.0234842  0.03139305 0.02682238 0.03312595 0.03027058] nm\n",
    "# >. 📊 Protein Backbone RMSD (MDTraj): Min = 0.021 nm ; [0.02815207 0.0213471  0.0300446  0.02556344 0.03076157 0.02815207] nm\n",
    "# >. 📊 Ligand RMSD (Direct): Min = 0.099 nm ; [0.12628981 0.12720062 0.1261062  0.12731826 0.09938771 0.12628981] nm\n",
    "# >. 📊 Ligand RMSD (MDTraj): Min = 0.090 nm ; [0.12088684 0.12062304 0.12107167 0.12165862 0.09036002 0.12088684] nm\n",
    "# >. 📊 Protein Backbone Pocket RMSD (Direct): Min = 0.017 nm ; [0.01763394 0.01680886 0.01733702 0.01748303 0.01763932 0.01763394] nm\n",
    "# >. 📊 Protein Backbone Pocket RMSD (MDTraj): Min = 0.017 nm ; [0.01763385 0.01680982 0.0173394  0.01747647 0.01763385 0.01763385] nm\n",
    "#\n",
    "# Note: RMSD (Direct) is the RMSD value with a direct algorithm, and RMSD (MDTraj) is the RMSD value using the MDTraj that has a further structural alignment. RMSD < 0.2 nm is a good value to see how similar the predicted structures are.\n",
    "```"
   ]
  },
  {
   "cell_type": "markdown",
   "id": "55ebcfe9-157d-4ea5-a969-65522c36dc79",
   "metadata": {},
   "source": [
    "## Running a job: AutoDock Vina\n",
    "\n",
    "AutoDock Vina requires three input files: a receptor PDBQT file, a ligand PDBQT file, and binding pocket information (center coordinates and box size). The PDBQT format is an extension of the PDB file that includes torsion flexibility, partial charges, and AutoDock-specific atom types. To convert a standard receptor PDB file to PDBQT, the scripts (mk_prepare_receptor.py and mk_prepare_ligand.py) from [Meeko](https://meeko.readthedocs.io/en/release-doc/) can be used, which streamlines the process by adding hydrogens, assigning charges, and formatting the structure appropriately for docking.\n",
    "\n",
    "```bash\n",
    "# Obtain the vina.sh script to run the AutoDock Vina\n",
    "# Please modify this \"../../../scripts/vina.sh\" file.\n",
    "#\n",
    "# Create a folder as a working directory to run a vina job \n",
    "$ mkdir -p vina\n",
    "# Here, we use the AF3-predicted best one to submit a vina job\n",
    "$ bash ../../../scripts/vina.sh --input_pdb af3/best_pose/aligned_model_convert.pdb --work_dir vina --native_dir native \n",
    "#\n",
    "# Check the result: we will see an \"vina\" folder, which includes all data generated\n",
    "$ ls -ltr vina\n",
    "# >> vina_box_params.txt\n",
    "# >> vina_receptor.pdb\n",
    "# >> vina_ligand.pdb\n",
    "# >> vina_receptor.pdbqt\n",
    "# >> vina_ligand.sdf\n",
    "# >> vina_ligand.pdbqt\n",
    "# >> vina_ligand_docked.pdbqt\n",
    "# >> vina_ligands.pdb\n",
    "# >> vina_ligand_1.pdb\n",
    "# >> vina_ligand_2.pdb\n",
    "# >> vina_ligand_3.pdb\n",
    "# >> vina_ligand_4.pdb\n",
    "# >> vina_ligand_5.pdb\n",
    "# >> vina_ligand_ref.pdb\n",
    "# >> vina_ligand_1_convert.pdb\n",
    "# >> vina_ligand_2_convert.pdb\n",
    "# >> vina_ligand_3_convert.pdb\n",
    "# >> vina_ligand_4_convert.pdb\n",
    "# >> vina_ligand_5_convert.pdb\n",
    "#\n",
    "# Check out the predicted structrues\n",
    "# It has five predicted structures. We can save them into the complex structures.\n",
    "$ cat vina/vina_receptor.pdb vina/vina_ligand_1_convert.pdb | grep 'ATOM' > vina/vina_model_1_convert.pdb\n",
    "$ cat vina/vina_receptor.pdb vina/vina_ligand_2_convert.pdb | grep 'ATOM' > vina/vina_model_2_convert.pdb\n",
    "$ cat vina/vina_receptor.pdb vina/vina_ligand_3_convert.pdb | grep 'ATOM' > vina/vina_model_3_convert.pdb\n",
    "$ cat vina/vina_receptor.pdb vina/vina_ligand_4_convert.pdb | grep 'ATOM' > vina/vina_model_4_convert.pdb\n",
    "$ cat vina/vina_receptor.pdb vina/vina_ligand_5_convert.pdb | grep 'ATOM' > vina/vina_model_5_convert.pdb\n",
    "# Then, we can check their RMSD values\n",
    "$ python ../../../scripts/check_rmsd.py --ref native/native_modelH.pdb \"vina/vina_model_*_convert.pdb\"\n",
    "# >> 📂 Loading reference PDB: native/native_modelH.pdb\n",
    "# >>   - /home/xg69107/program/pfas_docking/test/dock_dir/7FEU_4I6/native/native_modelH.pdb\n",
    "# >> 📂 Loading target PDB: vina/vina_model_*.pdb\n",
    "# >>   - /home/xg69107/program/pfas_docking/test/dock_dir/7FEU_4I6/vina/vina_model_1.pdb\n",
    "# >>   - /home/xg69107/program/pfas_docking/test/dock_dir/7FEU_4I6/vina/vina_model_2.pdb\n",
    "# >>   - /home/xg69107/program/pfas_docking/test/dock_dir/7FEU_4I6/vina/vina_model_3.pdb\n",
    "# >>   - /home/xg69107/program/pfas_docking/test/dock_dir/7FEU_4I6/vina/vina_model_4.pdb\n",
    "# >>   - /home/xg69107/program/pfas_docking/test/dock_dir/7FEU_4I6/vina/vina_model_5.pdb\n",
    "# >> 📊 Protein Backbone RMSD (Direct): Min = 0.030 nm ; [0.03027058 0.03027058 0.03027058 0.03027058 0.03027058] nm\n",
    "# >> 📊 Protein Backbone RMSD (MDTraj): Min = 0.028 nm ; [0.02815207 0.02815207 0.02815207 0.02815207 0.02815207] nm\n",
    "# >> 📊 Ligand RMSD (Direct): Min = 0.136 nm ; [0.48185012 0.4927522  0.13607053 0.5017956  0.4698871 ] nm\n",
    "# >> 📊 Ligand RMSD (MDTraj): Min = 0.128 nm ; [0.15364015 0.17642318 0.1278825  0.12832251 0.15354529] nm\n",
    "# >> 📊 Protein Backbone Pocket RMSD (Direct): Min = 0.018 nm ; [0.01763394 0.01763394 0.01763394 0.01763394 0.01763394] nm\n",
    "# >> 📊 Protein Backbone Pocket RMSD (MDTraj): Min = 0.018 nm ; [0.01763385 0.01763385 0.01763385 0.01763385 0.01763385] nm\n",
    "#\n",
    "# Note: We see that the vina-predicted best pose is not the closest to the native one.\n",
    "```\n",
    "\n"
   ]
  },
  {
   "cell_type": "markdown",
   "id": "5be1a05e-60c3-47b3-bc1a-2851754a6abe",
   "metadata": {},
   "source": [
    "## Running a job: MM/PBSA\n",
    "\n",
    "We will use the gmx_MMPBSA tool to calculate the binding free energy of a protein–ligand complex from a PDB structure. In our example, the PDB structure contains one protein and one ligand. To perform the gmx_MMPBSA calculations, specifically, we will apply the [single trajectory (ST) protocol](https://valdes-tresanco-ms.github.io/gmx_MMPBSA/dev/examples/Protein_ligand/ST).\n",
    "\n",
    "It is necessary to have a look at [a ST example of gmx_MMPBSA](https://valdes-tresanco-ms.github.io/gmx_MMPBSA/dev/examples/Protein_ligand/ST). This example requires several inputs, including\n",
    "\n",
    "+ **mmpbsa.in**: the input file of gmx_MMPBSA, which defines some parameters\n",
    "+ **com.tpr**: this is tpr file from the GROMACS, which includes all possible info, including the force field, topology, etc.\n",
    "+ **com_traj.xtc**: this is the trajectory file, which includes the coordinates of many trajectory frames. We assume that these trajectories are independently sampled and represent the major state of the protein-ligand complex.\n",
    "+ **index.ndx**: this is the index file created from GROMACS, which includes the indices of protein and ligand \"-cg 3 4\" should refer to the protein and ligand in the index.ndx file.\n",
    "+ **topol.top**: this is the topol.top file created from GROMACS, which includes all parameters, etc. \n",
    "\n",
    "To run a MM/PBSA job, we can start with a protein-ligand complex system predicted by either AF3 or Vina. \n",
    "This system could be missing hydrogen atoms, or not structurally optimized, so we will first add the hydrogen atoms and also do the geometry optimization, to obtain an optimized structure. After that, we will use the gmx_MMPBSA to calculate the binding free energy of this optmized strcuture.\n",
    "\n",
    "```bash\n",
    "# It is necessary to have a look at an example of gmx_MMPBSA.\n",
    "# Please see here: https://valdes-tresanco-ms.github.io/gmx_MMPBSA/dev/examples/Protein_ligand/ST\n",
    "#\n",
    "# Collect all predicted protein-ligand model systems\n",
    "$ ls -lrt af3/*/aligned_model_convert.pdb\n",
    "# >> af3/best_pose/aligned_model_convert.pdb\n",
    "# >> af3/seed-1_sample-0/aligned_model_convert.pdb\n",
    "# >> af3/seed-1_sample-1/aligned_model_convert.pdb\n",
    "# >> af3/seed-1_sample-2/aligned_model_convert.pdb\n",
    "# >> af3/seed-1_sample-3/aligned_model_convert.pdb\n",
    "# >> af3/seed-1_sample-4/aligned_model_convert.pdb\n",
    "#\n",
    "$ ls -lrt vina/vina_model_*_convert.pdb\n",
    "# >> vina/vina_model_*_convert.pdb\n",
    "# >> vina/vina_model_1_convert.pdb\n",
    "# >> vina/vina_model_2_convert.pdb\n",
    "# >> vina/vina_model_3_convert.pdb\n",
    "# >> vina/vina_model_4_convert.pdb\n",
    "# >> vina/vina_model_5_convert.pdb\n",
    "#\n",
    "# Here, we take the AF3-predicted best pose as an example: af3/best_pose/aligned_model_convert.pdb\n",
    "# Add the hydrogen atoms\n",
    "$ bash ../../../scripts/get_ref_for_af3vinammpbsa.sh --input_pdb af3/best_pose/aligned_model_convert.pdb --work_dir af3/best_pose --native_dir native # it will generate a pdb file: af3/best_pose/aligned_model_convertH.pdb\n",
    "$ python ../../../scripts/check_2pdbs.py native/native_modelH.pdb af3/best_pose/aligned_model_convertH.pdb # Check this pdb file\n",
    "$ python ../../../scripts/check_rmsd.py --ref native/native_modelH.pdb af3/best_pose/aligned_model_convertH.pdb # Check its RMSD values\n",
    "#\n",
    "# Optimize structure & run the MM/PBSA\n",
    "$ mkdir -p mmpbsa\n",
    "$ bash ../../../scripts/mmpbsa.sh --input_pdb af3/best_pose/aligned_model_convertH.pdb --work_dir mmpbsa --native_dir native\n",
    "#\n",
    "# Check the minimized structure\n",
    "$ python ../../../scripts/check_2pdbs.py native/native_modelH.pdb mmpbsa/aligned_model_convertH_emin.pdb\n",
    "$ python ../../../scripts/check_rmsd.py --ref native/native_modelH.pdb mmpbsa/aligned_model_convertH_emin.pdb\n",
    "#\n",
    "# Check the binding free energy\n",
    "$ cat mmpbsa/aligned_model_convertH_emin_MMPBSA.dat # | grep 'ΔTOTAL'\n",
    "# >> -------------------------------------------------------------------------------\n",
    "# >> Delta (Complex - Receptor - Ligand):\n",
    "# >> Energy Component       Average     SD(Prop.)         SD   SEM(Prop.)        SEM\n",
    "# >> -------------------------------------------------------------------------------\n",
    "# >> ΔBOND                    -0.00          0.00       0.00         0.00       0.00\n",
    "# >> ΔANGLE                   -0.00          0.00       0.00         0.00       0.00\n",
    "# >> ΔDIHED                   -0.00          0.00       0.00         0.00       0.00\n",
    "# >> ΔVDWAALS                -35.83          0.00       0.00         0.00       0.00\n",
    "# >> ΔEEL                    -65.18          0.00       0.00         0.00       0.00\n",
    "# >> Δ1-4 VDW                 -0.00          0.00       0.00         0.00       0.00\n",
    "# >> Δ1-4 EEL                 -0.00          0.00       0.00         0.00       0.00\n",
    "# >> ΔEGB                     81.97          0.00       0.00         0.00       0.00\n",
    "# >> ΔESURF                   -5.81          0.00       0.00         0.00       0.00\n",
    "# >> \n",
    "# >> ΔGGAS                  -101.01          0.00       0.00         0.00       0.00\n",
    "# >> ΔGSOLV                   76.16          0.00       0.00         0.00       0.00\n",
    "# >> \n",
    "# >> ΔTOTAL                  -24.85          0.00       0.00         0.00       0.00\n",
    "# >> -------------------------------------------------------------------------------\n",
    "#\n",
    "# Check the RMSD values\n",
    "$ cat mmpbsa/aligned_model_convertH_emin_RMSD.dat \n",
    "# >> 📂 Loading reference PDB: /home/xg69107/program/pfas_docking/test/dock_dir/7FEU_4I6/native/native_modelH.pdb\n",
    "# >>   - /home/xg69107/program/pfas_docking/test/dock_dir/7FEU_4I6/native/native_modelH.pdb\n",
    "# >> 📂 Loading target PDB: aligned_model_convertH_emin.pdb\n",
    "# >>   - /home/xg69107/program/pfas_docking/test/dock_dir/7FEU_4I6/mmpbsa/aligned_model_convertH_emin.pdb\n",
    "# >> 📊 Protein Backbone RMSD (Direct): Min = 0.030 nm ; [0.03020584] nm\n",
    "# >> 📊 Protein Backbone RMSD (MDTraj): Min = 0.028 nm ; [0.02817651] nm\n",
    "# >> 📊 Ligand RMSD (Direct): Min = 0.125 nm ; [0.1249753] nm\n",
    "# >> 📊 Ligand RMSD (MDTraj): Min = 0.120 nm ; [0.11951476] nm\n",
    "# >> 📊 Protein Backbone Pocket RMSD (Direct): Min = 0.021 nm ; [0.02059139] nm\n",
    "# >> 📊 Protein Backbone Pocket RMSD (MDTraj): Min = 0.021 nm ; [0.0205908] nm\n",
    "#\n",
    "# To have a batch processing, we can run the following script:\n",
    "$ bash run_all_mmpbsa.sh | tee run_all_mmpbsa.out\n",
    "# Then, we can check their MMPBSA.dat and RMSD.dat\n",
    "$ grep 'ΔTOTAL' mmpbsa/*_MMPBSA.dat\n",
    "# >> mmpbsa/af3-best_pose-aligned_model_convertH_emin_MMPBSA.dat:ΔTOTAL                  -24.85          0.00       0.00         0.00       0.00\n",
    "# >> mmpbsa/af3-seed-1_sample-0-aligned_model_convertH_emin_MMPBSA.dat:ΔTOTAL                  -23.75          0.00       0.00         0.00       0.00\n",
    "# >> mmpbsa/af3-seed-1_sample-1-aligned_model_convertH_emin_MMPBSA.dat:ΔTOTAL                  -24.65          0.00       0.00         0.00       0.00\n",
    "# >> mmpbsa/af3-seed-1_sample-2-aligned_model_convertH_emin_MMPBSA.dat:ΔTOTAL                  -25.04          0.00       0.00         0.00       0.00\n",
    "# >> mmpbsa/af3-seed-1_sample-3-aligned_model_convertH_emin_MMPBSA.dat:ΔTOTAL                  -24.96          0.00       0.00         0.00       0.00\n",
    "# >> mmpbsa/af3-seed-1_sample-4-aligned_model_convertH_emin_MMPBSA.dat:ΔTOTAL                  -24.85          0.00       0.00         0.00       0.00\n",
    "# >> mmpbsa/vina-vina_model_1_convertH_emin_MMPBSA.dat:ΔTOTAL                  -23.39          0.00       0.00         0.00       0.00\n",
    "# >> mmpbsa/vina-vina_model_2_convertH_emin_MMPBSA.dat:ΔTOTAL                  -18.17          0.00       0.00         0.00       0.00\n",
    "# >> mmpbsa/vina-vina_model_3_convertH_emin_MMPBSA.dat:ΔTOTAL                  -21.32          0.00       0.00         0.00       0.00\n",
    "# >> mmpbsa/vina-vina_model_4_convertH_emin_MMPBSA.dat:ΔTOTAL                  -23.26          0.00       0.00         0.00       0.00\n",
    "# >> mmpbsa/vina-vina_model_5_convertH_emin_MMPBSA.dat:ΔTOTAL                  -24.16          0.00       0.00         0.00       0.00\n",
    "#\n",
    "$ grep 'Ligand RMSD (Direct)' mmpbsa/*_Top1RMSD.dat\n",
    "# >> mmpbsa/af3-best_pose-aligned_model_convertH_emin_Top1RMSD.dat:📊 Ligand RMSD (Direct): Min = 0.000 nm ; [0.] nm\n",
    "# >> mmpbsa/af3-seed-1_sample-0-aligned_model_convertH_emin_Top1RMSD.dat:📊 Ligand RMSD (Direct): Min = 0.008 nm ; [0.00846293] nm\n",
    "# >> mmpbsa/af3-seed-1_sample-1-aligned_model_convertH_emin_Top1RMSD.dat:📊 Ligand RMSD (Direct): Min = 0.116 nm ; [0.11583543] nm\n",
    "# >> mmpbsa/af3-seed-1_sample-2-aligned_model_convertH_emin_Top1RMSD.dat:📊 Ligand RMSD (Direct): Min = 0.082 nm ; [0.08212418] nm\n",
    "# >> mmpbsa/af3-seed-1_sample-3-aligned_model_convertH_emin_Top1RMSD.dat:📊 Ligand RMSD (Direct): Min = 0.116 nm ; [0.11610258] nm\n",
    "# >> mmpbsa/af3-seed-1_sample-4-aligned_model_convertH_emin_Top1RMSD.dat:📊 Ligand RMSD (Direct): Min = 0.000 nm ; [0.] nm\n",
    "# >> mmpbsa/vina-vina_model_1_convertH_emin_Top1RMSD.dat:📊 Ligand RMSD (Direct): Min = 0.000 nm ; [0.] nm\n",
    "# >> mmpbsa/vina-vina_model_2_convertH_emin_Top1RMSD.dat:📊 Ligand RMSD (Direct): Min = 0.293 nm ; [0.29329646] nm\n",
    "# >> mmpbsa/vina-vina_model_3_convertH_emin_Top1RMSD.dat:📊 Ligand RMSD (Direct): Min = 0.487 nm ; [0.48655078] nm\n",
    "# >> mmpbsa/vina-vina_model_4_convertH_emin_Top1RMSD.dat:📊 Ligand RMSD (Direct): Min = 0.200 nm ; [0.2003686] nm\n",
    "# >> mmpbsa/vina-vina_model_5_convertH_emin_Top1RMSD.dat:📊 Ligand RMSD (Direct): Min = 0.170 nm ; [0.17047724] nm\n",
    "#\n",
    "$ grep 'Ligand RMSD (Direct)' mmpbsa/*_RMSD.dat\n",
    "# >> mmpbsa/af3-best_pose-aligned_model_convertH_emin_RMSD.dat:📊 Ligand RMSD (Direct): Min = 0.125 nm ; [0.1249753] nm\n",
    "# >> mmpbsa/af3-seed-1_sample-0-aligned_model_convertH_emin_RMSD.dat:📊 Ligand RMSD (Direct): Min = 0.126 nm ; [0.12637609] nm\n",
    "# >> mmpbsa/af3-seed-1_sample-1-aligned_model_convertH_emin_RMSD.dat:📊 Ligand RMSD (Direct): Min = 0.124 nm ; [0.12439268] nm\n",
    "# >> mmpbsa/af3-seed-1_sample-2-aligned_model_convertH_emin_RMSD.dat:📊 Ligand RMSD (Direct): Min = 0.126 nm ; [0.12602165] nm\n",
    "# >> mmpbsa/af3-seed-1_sample-3-aligned_model_convertH_emin_RMSD.dat:📊 Ligand RMSD (Direct): Min = 0.097 nm ; [0.09743661] nm\n",
    "# >> mmpbsa/af3-seed-1_sample-4-aligned_model_convertH_emin_RMSD.dat:📊 Ligand RMSD (Direct): Min = 0.125 nm ; [0.1249753] nm\n",
    "# >> mmpbsa/aligned_model_convertH_emin_RMSD.dat:📊 Ligand RMSD (Direct): Min = 0.125 nm ; [0.1249753] nm\n",
    "# >> mmpbsa/vina-vina_model_1_convertH_emin_RMSD.dat:📊 Ligand RMSD (Direct): Min = 0.487 nm ; [0.48672646] nm\n",
    "# >> mmpbsa/vina-vina_model_2_convertH_emin_RMSD.dat:📊 Ligand RMSD (Direct): Min = 0.498 nm ; [0.4978356] nm\n",
    "# >> mmpbsa/vina-vina_model_3_convertH_emin_RMSD.dat:📊 Ligand RMSD (Direct): Min = 0.137 nm ; [0.13723528] nm\n",
    "# >> mmpbsa/vina-vina_model_4_convertH_emin_RMSD.dat:📊 Ligand RMSD (Direct): Min = 0.502 nm ; [0.50161225] nm\n",
    "# >> mmpbsa/vina-vina_model_5_convertH_emin_RMSD.dat:📊 Ligand RMSD (Direct): Min = 0.473 nm ; [0.47266927] nm\n",
    "#\n",
    "```\n",
    "\n"
   ]
  },
  {
   "cell_type": "code",
   "execution_count": null,
   "id": "047189a3-5714-42a1-94ee-2bb529a29a3b",
   "metadata": {},
   "outputs": [],
   "source": [
    "from IPython.display import Markdown, display\n",
    "import requests\n",
    "\n",
    "# Use the raw GitHub URL\n",
    "url = \"https://raw.githubusercontent.com/XipingGong/pfas_docking/main/scripts/run_all_mmpbsa.sh\"\n",
    "code = requests.get(url).text\n",
    "\n",
    "# Display with syntax highlighting\n",
    "display(Markdown(f\"```bash\\n{code}\\n```\"))"
   ]
  },
  {
   "cell_type": "markdown",
   "id": "1ff4d648-958b-4d74-a32e-abe8935616e7",
   "metadata": {},
   "source": [
    "# Appendix\n"
   ]
  },
  {
   "cell_type": "markdown",
   "id": "33a238ab-d6b6-47ad-8de5-247332f86515",
   "metadata": {},
   "source": [
    "## Scripts"
   ]
  },
  {
   "attachments": {},
   "cell_type": "markdown",
   "id": "9b020537-6e6f-4b8d-9ac0-b55df8a327f8",
   "metadata": {},
   "source": [
    "### get_native_pdb.sh\n"
   ]
  },
  {
   "cell_type": "code",
   "execution_count": 4,
   "id": "0d32f80c-073d-4a3d-a30f-809bce78ab03",
   "metadata": {},
   "outputs": [
    {
     "data": {
      "text/markdown": [
       "```bash\n",
       "404: Not Found\n",
       "```"
      ],
      "text/plain": [
       "<IPython.core.display.Markdown object>"
      ]
     },
     "metadata": {},
     "output_type": "display_data"
    }
   ],
   "source": [
    "from IPython.display import Markdown, display\n",
    "import requests\n",
    "\n",
    "# Use the raw GitHub URL\n",
    "url = \"https://raw.githubusercontent.com/XipingGong/pfas_docking/main/scripts/get_native_pdb.sh\"\n",
    "code = requests.get(url).text\n",
    "\n",
    "# Display with syntax highlighting\n",
    "display(Markdown(f\"```bash\\n{code}\\n```\"))\n"
   ]
  },
  {
   "cell_type": "markdown",
   "id": "47aab664-104f-482d-ac45-8082c1b0244a",
   "metadata": {},
   "source": [
    "### get_ref_for_af3vinammpbsa.sh\n"
   ]
  },
  {
   "cell_type": "code",
   "execution_count": 5,
   "id": "e0a41f8b-e1dd-4749-928a-fcee5f4b9450",
   "metadata": {},
   "outputs": [
    {
     "data": {
      "text/markdown": [
       "```bash\n",
       "404: Not Found\n",
       "```"
      ],
      "text/plain": [
       "<IPython.core.display.Markdown object>"
      ]
     },
     "metadata": {},
     "output_type": "display_data"
    }
   ],
   "source": [
    "from IPython.display import Markdown, display\n",
    "import requests\n",
    "\n",
    "# Use the raw GitHub URL\n",
    "url = \"https://raw.githubusercontent.com/XipingGong/pfas_docking/main/scripts/get_ref_for_af3vinammpbsa.sh\"\n",
    "code = requests.get(url).text\n",
    "\n",
    "# Display with syntax highlighting\n",
    "display(Markdown(f\"```bash\\n{code}\\n```\"))\n"
   ]
  },
  {
   "cell_type": "markdown",
   "id": "21f84da9-0465-4352-a226-41dfd43c5052",
   "metadata": {},
   "source": [
    "### af3.sh\n"
   ]
  },
  {
   "cell_type": "code",
   "execution_count": 5,
   "id": "ce0b53cf-551c-47c4-b7cd-9b223adfe62a",
   "metadata": {},
   "outputs": [
    {
     "data": {
      "text/markdown": [
       "```bash\n",
       "404: Not Found\n",
       "```"
      ],
      "text/plain": [
       "<IPython.core.display.Markdown object>"
      ]
     },
     "metadata": {},
     "output_type": "display_data"
    }
   ],
   "source": [
    "from IPython.display import Markdown, display\n",
    "import requests\n",
    "\n",
    "# Use the raw GitHub URL\n",
    "url = \"https://raw.githubusercontent.com/XipingGong/pfas_docking/main/scripts/af3.sh\"\n",
    "code = requests.get(url).text\n",
    "\n",
    "# Display with syntax highlighting\n",
    "display(Markdown(f\"```bash\\n{code}\\n```\"))\n"
   ]
  },
  {
   "cell_type": "markdown",
   "id": "1cda91b8-27eb-4988-bd03-6edad80455fe",
   "metadata": {},
   "source": [
    "### vina.sh"
   ]
  },
  {
   "cell_type": "code",
   "execution_count": 5,
   "id": "8c2c89e4-a7fc-4f62-829a-10fc308dbff8",
   "metadata": {},
   "outputs": [
    {
     "data": {
      "text/markdown": [
       "```bash\n",
       "404: Not Found\n",
       "```"
      ],
      "text/plain": [
       "<IPython.core.display.Markdown object>"
      ]
     },
     "metadata": {},
     "output_type": "display_data"
    }
   ],
   "source": [
    "from IPython.display import Markdown, display\n",
    "import requests\n",
    "\n",
    "# Use the raw GitHub URL\n",
    "url = \"https://raw.githubusercontent.com/XipingGong/pfas_docking/main/scripts/vina.sh\"\n",
    "code = requests.get(url).text\n",
    "\n",
    "# Display with syntax highlighting\n",
    "display(Markdown(f\"```bash\\n{code}\\n```\"))\n"
   ]
  },
  {
   "cell_type": "markdown",
   "id": "ce591bbf-86cf-45fa-9bb3-52c85dea68ed",
   "metadata": {},
   "source": [
    "### mmpbsa.sh\n"
   ]
  },
  {
   "cell_type": "code",
   "execution_count": 5,
   "id": "9a345774-68a4-4fca-bd13-a8134ed14883",
   "metadata": {},
   "outputs": [
    {
     "data": {
      "text/markdown": [
       "```bash\n",
       "404: Not Found\n",
       "```"
      ],
      "text/plain": [
       "<IPython.core.display.Markdown object>"
      ]
     },
     "metadata": {},
     "output_type": "display_data"
    }
   ],
   "source": [
    "from IPython.display import Markdown, display\n",
    "import requests\n",
    "\n",
    "# Use the raw GitHub URL\n",
    "url = \"https://raw.githubusercontent.com/XipingGong/pfas_docking/main/scripts/mmpbsa.sh\"\n",
    "code = requests.get(url).text\n",
    "\n",
    "# Display with syntax highlighting\n",
    "display(Markdown(f\"```bash\\n{code}\\n```\"))\n"
   ]
  },
  {
   "cell_type": "code",
   "execution_count": null,
   "id": "6e631b29-704b-4f27-899b-96b168e92d8c",
   "metadata": {},
   "outputs": [],
   "source": []
  }
 ],
 "metadata": {
  "kernelspec": {
   "display_name": "Python 3 (ipykernel)",
   "language": "python",
   "name": "python3"
  },
  "language_info": {
   "codemirror_mode": {
    "name": "ipython",
    "version": 3
   },
   "file_extension": ".py",
   "mimetype": "text/x-python",
   "name": "python",
   "nbconvert_exporter": "python",
   "pygments_lexer": "ipython3",
   "version": "3.10.14"
  }
 },
 "nbformat": 4,
 "nbformat_minor": 5
}
